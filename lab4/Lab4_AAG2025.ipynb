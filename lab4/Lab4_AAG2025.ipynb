{
  "cells": [
    {
      "cell_type": "markdown",
      "metadata": {
        "id": "mWkqJlQDtwZ9"
      },
      "source": [
        "# Aprendizaje Automático para Datos en Grafos - Laboratorio 4\n",
        "## Inferencia de topología\n",
        "\n",
        "En este laboratorio vamos a trabajar en el problema de inferir la topología subyacente de un grafo a partir de datos de observaciones o medidas en los vértices. Supongamos que conocemos los $N$ vértices de un grafo con pesos, pero no cómo se relacionan esos vértices (es decir, no conocemos el conjunto de aristas del grafo ni los pesos de esas aristas). Lo único que podemos observar es una señal o *feature* para cada nodo del grafo, que notaremos como $\\mathbf{x}_i \\in \\mathbb{R}^d$. En términos generales, el problema que abordaremos aquí será el de tratar de estimar la estructura del grafo (las aristas y sus pesos) a partir de las señales observadas.\n",
        "\n",
        "Nos enfocaremos en tres métodos que intentan resolver este problema de distintas maneras. Los métodos provienen de los siguientes papers:\n",
        "\n",
        "\n",
        "* [\"High-dimensional graphs and variable selection with the Lasso\"](https://projecteuclid.org/journals/annals-of-statistics/volume-34/issue-3/High-dimensional-graphs-and-variable-selection-with-the-Lasso), Meinshausen y Bühlmann, 2006\n",
        "* [\"Sparse inverse covariance estimation with the graphical lasso\"](https://academic.oup.com/biostatistics/article/9/3/432/224260), Friedman, Hastie y Tibshirani, 2008.\n",
        "* [\"How to learn a graph from smooth signals\"](https://arxiv.org/abs/1601.02513), Kalofolias, 2016.\n",
        "\n",
        "Veremos cómo implementar y aplicar parte de estos métodos. En una primera parte trabajaremos con datos sintéticos, generados a partir de una estructura conocida que intentaremos recuperar.\n",
        "En la segunda parte trabajaremos con un dataset de imágenes de dígitos, e intentaremos aprender un grafo que los relacione.\n"
      ]
    },
    {
      "cell_type": "code",
      "execution_count": null,
      "metadata": {
        "id": "cNax-xACbN1v"
      },
      "outputs": [],
      "source": [
        "# Como siempre, comenzamos por importar las librerías que vamos usar.\n",
        "# Instalo Graspologic\n",
        "!pip install graspologic"
      ]
    },
    {
      "cell_type": "code",
      "execution_count": null,
      "metadata": {
        "id": "20Ni_abvxcu8"
      },
      "outputs": [],
      "source": [
        "# Importo librerías y funciones\n",
        "import networkx as nx\n",
        "import numpy as np\n",
        "import numpy.linalg as la\n",
        "import pandas as pd\n",
        "import matplotlib.pyplot as plt\n",
        "from matplotlib.lines import Line2D\n",
        "import torch\n",
        "import sys\n",
        "from sklearn.cluster import SpectralClustering\n",
        "from sklearn import metrics\n",
        "from sklearn.manifold import TSNE\n",
        "from sklearn.preprocessing import normalize\n",
        "from sklearn.covariance import GraphicalLasso, GraphicalLassoCV\n",
        "from graspologic.utils import remap_labels"
      ]
    },
    {
      "cell_type": "markdown",
      "metadata": {
        "id": "larjaJLLJKCn"
      },
      "source": [
        "## Inferencia de topología en grafos sintéticos\n",
        "En esta primera parte trabajaremos con un grafo sintético. Para generarlo, seguiremos el siguiente procedimiento:\n",
        "\n",
        "a)  Sorteamos $N$ puntos de forma uniforme en el cuadrado $[0,1] \\times [0,1]$. Esos serán los vértices de nuestro grafo.\n",
        "\n",
        "b)  Para cada par de puntos $i$ y $j$ que sorteamos antes, tomamos como peso de la arista $(i,j)$ a $w_{ij} = 0$ si $i=j$ o $w_{ij} = e^{-\\frac{d(i,j)}{2\\sigma^2}}$ si $i \\neq j$, donde $d(i,j)$ es la distancia euclidea en $\\mathbb{R}^2$ y $\\sigma$ es un parámetro fijo.\n",
        "\n",
        "c) Nos quedamos solamente con las aristas cuyo peso $w_{ij}$ sea mayor que un número fijo $r>0$ (es decir, hacemos 0 todos los pesos que sean menores que $r$).\n"
      ]
    },
    {
      "cell_type": "markdown",
      "metadata": {
        "id": "OFiGFz7JSXQ4"
      },
      "source": [
        "1. Escribir una función que, dado un número de vértices $N$ y dos parámetros $\\sigma$ y $r$ genere un grafo con pesos con el procedimiento de arriba"
      ]
    },
    {
      "cell_type": "code",
      "execution_count": null,
      "metadata": {
        "id": "xXOIbFkCSrSN"
      },
      "outputs": [],
      "source": [
        "# La siguiente función de scikit-learn puede ser de utilidad\n",
        "from sklearn.metrics.pairwise import euclidean_distances\n",
        "\n",
        "def generate_random_graph(N, sigma, r):\n",
        "    # TODO: Implementar esta función que acepta como argumentos un número de\n",
        "    # vértices N y dos parámetros sigma y r devuelve dos arrays de numpy: uno con\n",
        "    # las posiciones sorteadas al azar en [0,1]x[0,1] y otro con con los\n",
        "    # pesos w_{ij} generados con el procedimiento de arriba\n",
        "    # points = np.zeros((N, 2))\n",
        "    # weights = np.zeros((N, N))\n",
        "\n",
        "    points = np.random.rand(N, 2)\n",
        "\n",
        "    distancias = euclidean_distances(points)\n",
        "\n",
        "    weights = np.exp(- distancias / (2*sigma**2))\n",
        "    np.fill_diagonal(weights, val=0) \n",
        "    weights = np.where(weights > r, weights, 0)\n",
        "\n",
        "    return points, weights"
      ]
    },
    {
      "cell_type": "code",
      "execution_count": null,
      "metadata": {
        "id": "UGumKJHFVv81"
      },
      "outputs": [],
      "source": [
        "# Fijo estado del random de numpy para reproducibilidad\n",
        "np.random.seed(34)\n",
        "\n",
        "# Parámetros del grafo\n",
        "N = 50\n",
        "sigma = 0.5\n",
        "r = 0.6\n",
        "# Genero pesos\n",
        "points, weights = generate_random_graph(N,sigma,r)\n",
        "# Paso a grafo de Networkx\n",
        "G_synthetic = nx.from_numpy_array(weights)\n",
        "# Tomo como posiciones del grafo los puntos del [0,1]x[0,1] que sorteé\n",
        "pos = {node:point for (node,point) in zip(G_synthetic.nodes(),points)}\n",
        "# Dibujo el grafo\n",
        "fig,ax = plt.subplots(1,1,figsize=(6, 6))\n",
        "ax.set_title(\"Grafo sintético\")\n",
        "edges = G_synthetic.edges()\n",
        "edge_weights = nx.get_edge_attributes(G_synthetic, \"weight\")\n",
        "widths = [edge_weights[edge]*1 for edge in edges]\n",
        "_ = nx.draw_networkx_nodes(G_synthetic, node_size=100,pos=pos,ax=ax)\n",
        "_ = nx.draw_networkx_edges(G_synthetic, alpha=0.6, width=widths, pos=pos,ax=ax)"
      ]
    },
    {
      "cell_type": "markdown",
      "metadata": {
        "id": "nTc3e6fz77lP"
      },
      "source": [
        "Con la implementación \"natural\" de la generación del grafo aleatorio, le debería quedar un grafo conexo.\n",
        "Si lo hacen de otra forma y el grafo sorteado no resulta conexo, modifiquen la semilla de la generación aleatoria hasta que el grafo resultante sea conexo."
      ]
    },
    {
      "cell_type": "markdown",
      "metadata": {
        "id": "ASbBDLE2eKPm"
      },
      "source": [
        "Una vez generado el grafo, tomaremos como señal a un vector aleatorio $\\mathbf{x} \\sim \\mathcal{N}(0,L^\\dagger)$, donde $L^\\dagger$ es la [pseudoinversa](https://en.wikipedia.org/wiki/Moore%E2%80%93Penrose_inverse) del laplaciano $L$ del grafo.\n",
        "\n",
        "Cada **columna** de la matriz, corresponde a un nodo del grafo."
      ]
    },
    {
      "cell_type": "code",
      "execution_count": null,
      "metadata": {
        "id": "BVcRffvteuhm"
      },
      "outputs": [],
      "source": [
        "#Generamos datos\n",
        "\n",
        "n_samples = 40\n",
        "L = nx.laplacian_matrix(G_synthetic).toarray()\n",
        "#Le agregamos un pequeño múltiplo de la identidad para evitar el valor propio cero\n",
        "Ladd = L + 0.1*np.eye(N)\n",
        "#Y calculamos la pseudoinversa\n",
        "Lpinv = la.pinv(Ladd)\n",
        "\n",
        "X = np.random.multivariate_normal(np.zeros(N), Lpinv, size=n_samples)\n",
        "plt.imshow(X)\n"
      ]
    },
    {
      "cell_type": "markdown",
      "metadata": {
        "id": "NqUvrb9ibPla"
      },
      "source": [
        "Intentaremos ahora inferir la estructura del grafo, a partir de la matriz de datos.\n",
        "Observar que si la cantidad de datos (n_samples) es menor que $N$, entonces la matriz de covarianza empírica no es invertible.\n",
        "\n",
        "Comenzaremos con el Graphical Lasso, para el cual utilizaremos la versión implementada en sklearn."
      ]
    },
    {
      "cell_type": "code",
      "execution_count": null,
      "metadata": {
        "id": "rKYLgcNcfFum"
      },
      "outputs": [],
      "source": [
        "# el método Graphical Lasso tiene un parámetro de penalización (alpha en este código).\n",
        "# La versión CV elige este alpha utilizando cross-validation\n",
        "\n",
        "modelCV = GraphicalLassoCV()\n",
        "modelCV.fit(X)\n",
        "cov_glassoCV = modelCV.covariance_\n",
        "prec_glassoCV = modelCV.precision_\n",
        "\n",
        "emp_cov = np.dot(X.T, X) / n_samples\n",
        "\n",
        "plt.figure(figsize=(18, 9))\n",
        "\n",
        "plt.subplot(1,3,1)\n",
        "plt.imshow(Ladd)\n",
        "plt.title(\"Matriz de precisión verdadera\")\n",
        "\n",
        "plt.subplot(1,3,2)\n",
        "plt.title(\"Estimada con Graphical Lasso\")\n",
        "plt.imshow(prec_glassoCV)\n",
        "\n",
        "plt.subplot(1,3,3)\n",
        "plt.title(\"Matriz de precisión empirica\")\n",
        "plt.imshow(la.pinv(emp_cov))\n",
        "\n",
        "\n"
      ]
    },
    {
      "cell_type": "markdown",
      "metadata": {
        "id": "FcUNumYsXgB1"
      },
      "source": [
        "En la celda siguiente, varíe el valor del parámetro $\\alpha$ en el Graphical Lasso, y observe cómo repercute en la cantidad de elementos nulos y no nulos de la matriz resultado.\n",
        "\n",
        "2.   ¿Qué sucede para valores muy grandes de $\\alpha$? En esta realización del experimento, ¿a partir de qué valor sucede esto aproxidamente?\n",
        "\n",
        "Luego de experimentar con el parámetro, elija un valor de $\\alpha$ para correr la celda y utilizar el resultado en lo que sigue. Puede ser el valor obtenido en la celda anterior mediante cross-validation, o algún valor cercano cuyo resultado le guste visualmente.\n",
        "\n"
      ]
    },
    {
      "cell_type": "code",
      "execution_count": null,
      "metadata": {
        "id": "r4OSIEsZXm8L"
      },
      "outputs": [],
      "source": [
        "# esta línea setea el valor de alpha al obtenido por cross-validation en la celda anterior.\n",
        "# Cambie el valor de este parámetro y observe el resultado\n",
        "alphas = np.logspace(-2, 1, 10)\n",
        "for alpha in alphas: \n",
        "    model = GraphicalLasso(alpha=alpha)\n",
        "    model.fit(X)\n",
        "    cov_glasso = model.covariance_\n",
        "    prec_glasso = model.precision_\n",
        "\n",
        "    emp_cov = np.dot(X.T, X) / n_samples\n",
        "    print(f\"Alpha: {alpha}\")\n",
        "    plt.figure(figsize=(12, 6))\n",
        "\n",
        "    plt.subplot(1,2,1)\n",
        "    plt.imshow(Ladd)\n",
        "    plt.title(\"Matriz de precisión verdadera\")\n",
        "\n",
        "    plt.subplot(1,2,2)\n",
        "    plt.title(\"Estimada con Graphical Lasso\")\n",
        "    plt.imshow(prec_glasso)\n",
        "\n",
        "    plt.show()\n",
        "\n"
      ]
    },
    {
      "cell_type": "markdown",
      "metadata": {
        "id": "4jqQ106ra0nA"
      },
      "source": [
        "A continuación probaremos el método de Meinshausen y Bühlmann. Para esto, tendrá que implementar el método, y probarlo en las celdas siguientes.\n",
        "\n",
        "3.   Implementar el método de Meinshausen y Bühlmann.\n",
        "\n"
      ]
    },
    {
      "cell_type": "code",
      "execution_count": null,
      "metadata": {
        "id": "HLJN5R8Ean6Q"
      },
      "outputs": [],
      "source": [
        "# Puede utilizar la función linear_model.Lasso de sklearn\n",
        "from sklearn import linear_model\n",
        "\n",
        "def meinshausen(X,alpha,max_iter=1000):\n",
        "    # TODO: Implementar esta función que acepta como argumentos una matriz de datos\n",
        "    # (donde cada columna contiene realizaciones correspondientes a cada nodo) y\n",
        "    # el parámetro de regulización alpha.\n",
        "    k, p = X.shape\n",
        "    Xn = normalize(X, axis=0)  # Se normalizan las columnas\n",
        "    B = np.zeros((p, p))\n",
        "\n",
        "    #####################\n",
        "    # Tu código aquí\n",
        "    #####################\n",
        "    for j in range(p):\n",
        "        # saco la j-esima columna porque es la que queremos predecir\n",
        "        X_j = np.delete(Xn, j, axis=1) \n",
        "        y_j = Xn[:, j]\n",
        "        \n",
        "        lasso = linear_model.Lasso(alpha=alpha, max_iter=max_iter)\n",
        "        lasso.fit(X_j, y_j)\n",
        "        \n",
        "        coef = lasso.coef_\n",
        "        B[j, :] = np.insert(coef, j, 0)\n",
        "\n",
        "    return B"
      ]
    },
    {
      "cell_type": "code",
      "execution_count": null,
      "metadata": {
        "id": "dw2m3VZZi2Ms"
      },
      "outputs": [],
      "source": [
        "B = meinshausen(X,alpha=0.005)\n",
        "\n",
        "plt.figure(figsize=(12, 6))\n",
        "\n",
        "plt.subplot(1,2,1)\n",
        "plt.imshow(Ladd - np.diag(np.diag(Ladd)),vmin=-1,vmax=0)\n",
        "plt.title(\"Matriz de precisión verdadera (sin diagonal)\")\n",
        "\n",
        "plt.subplot(1,2,2)\n",
        "plt.title(\"Estimada con Meinshausen & Bühlmann\")\n",
        "plt.imshow(-B*np.diag(Ladd),vmin=-1,vmax=0)\n"
      ]
    },
    {
      "cell_type": "markdown",
      "metadata": {
        "id": "PZxAMX46d21z"
      },
      "source": [
        "Finalmente probaremos el método de Kalofolias. Primero obtenemos una implementación:"
      ]
    },
    {
      "cell_type": "code",
      "execution_count": null,
      "metadata": {
        "id": "V0T76aTIuJPb"
      },
      "outputs": [],
      "source": [
        "# El método de Kalofolias está implementado en un repositorio de Rodrigo Pena\n",
        "# Acá bajamos un fork de este repositorio con algunos cambios de nombres de funciones\n",
        "!git clone https://github.com/marfiori/graph-learning.git\n",
        "!pip install pyunlocbox\n",
        "sys.path.append('./graph-learning/')\n",
        "import learn_graph as lg"
      ]
    },
    {
      "cell_type": "markdown",
      "metadata": {
        "id": "Bx4BAcH2eA1f"
      },
      "source": [
        "4.   Experimente con los parámetros $\\alpha$ y $\\beta$ del método, hasta obtener una matriz cuya estructura de ceros/no ceros se parezca a la original.\n",
        "\n"
      ]
    },
    {
      "cell_type": "code",
      "execution_count": null,
      "metadata": {
        "id": "0_sjgitojWul"
      },
      "outputs": [],
      "source": [
        "alphaKalofolias = 1\n",
        "betaKalofolias = 1\n",
        "W,_ = lg.log_degree_barrier(\n",
        "    normalize(X.T), alpha=alphaKalofolias, beta=betaKalofolias, step=0.1\n",
        ")\n",
        "\n",
        "plt.figure(figsize=(12, 6))\n",
        "\n",
        "plt.subplot(1, 2, 1)\n",
        "plt.imshow(Ladd - np.diag(np.diag(Ladd)))\n",
        "plt.title(\"Matriz de precisión verdadera\")\n",
        "\n",
        "plt.subplot(1, 2, 2)\n",
        "plt.title(\"Estructura estimada con Kalofolias\")\n",
        "plt.imshow(-W)\n"
      ]
    },
    {
      "cell_type": "markdown",
      "metadata": {
        "id": "r48EZwbdorlR"
      },
      "source": [
        "\n",
        "Veamos cómo quedan los grafos"
      ]
    },
    {
      "cell_type": "code",
      "execution_count": null,
      "metadata": {
        "id": "OUrEnhv2iAoc"
      },
      "outputs": [],
      "source": [
        "G_glasso = nx.from_numpy_array(prec_glasso - np.diag(np.diag(prec_glasso)))\n",
        "G_kalof = nx.from_numpy_array(W)\n",
        "G_mb = nx.from_numpy_array(B)\n",
        "\n",
        "\n",
        "plt.figure(figsize=(10, 10))\n",
        "\n",
        "plt.subplot(2,2,1)\n",
        "plt.title(\"Ground truth graph\")\n",
        "edges = G_synthetic.edges()\n",
        "weights = nx.get_edge_attributes(G_synthetic, \"weight\")\n",
        "alphas = [weights[edge] * 2 for edge in edges]\n",
        "_ = nx.draw_networkx_edges(G_synthetic, width=alphas, pos=pos)\n",
        "_ = nx.draw_networkx_nodes(G_synthetic, pos=pos)\n",
        "\n",
        "plt.subplot(2,2,2)\n",
        "edges = G_glasso.edges()\n",
        "weights = nx.get_edge_attributes(G_glasso, \"weight\")\n",
        "alphas = [weights[edge] * 2 for edge in edges]\n",
        "_ = nx.draw_networkx_edges(G_glasso, width=alphas, pos=pos)\n",
        "_ = nx.draw_networkx_nodes(G_glasso, pos=pos)\n",
        "plt.title(\"Graphical lasso\")\n",
        "\n",
        "plt.subplot(2,2,3)\n",
        "edges = G_kalof.edges()\n",
        "weights = nx.get_edge_attributes(G_kalof, \"weight\")\n",
        "alphas = [weights[edge] * 2 for edge in edges]\n",
        "_ = nx.draw_networkx_edges(G_kalof, width=alphas, pos=pos)\n",
        "_ = nx.draw_networkx_nodes(G_kalof, pos=pos)\n",
        "plt.title(\"Kalofolias\")\n",
        "\n",
        "plt.subplot(2,2,4)\n",
        "edges = G_mb.edges()\n",
        "weights = nx.get_edge_attributes(G_mb, \"weight\")\n",
        "alphas = [weights[edge] * 2 for edge in edges]\n",
        "_ = nx.draw_networkx_edges(G_mb, width=alphas, pos=pos)\n",
        "_ = nx.draw_networkx_nodes(G_mb, pos=pos)\n",
        "plt.title(\"Meinshausen y Bühlmann\")"
      ]
    },
    {
      "cell_type": "markdown",
      "metadata": {
        "id": "ui3gK2qugJxi"
      },
      "source": [
        "\n",
        "\n",
        "5.  Reflexione sobre el funcionamiento de los métodos a partir de la figura anterior.\n",
        "\n"
      ]
    },
    {
      "cell_type": "markdown",
      "metadata": {
        "id": "eds53hfEsUsm"
      },
      "source": [
        "# En la segunda parte trabajaremos con los datos de MNIST (dígitos)"
      ]
    },
    {
      "cell_type": "markdown",
      "metadata": {
        "id": "ceQdRfSMgmot"
      },
      "source": [
        "Probaremos ahora algunos de los métodos de arriba en un conjunto de datos reales. Trabajaremos con los dígitos de la base MNIST."
      ]
    },
    {
      "cell_type": "code",
      "execution_count": null,
      "metadata": {
        "id": "YicFHNP7uxsg"
      },
      "outputs": [],
      "source": [
        "# Bajo dataset de imágenes de dígitos de PyTorch\n",
        "from torchvision import datasets\n",
        "\n",
        "mnist_data = datasets.MNIST('/tmp/MNIST', train=True, download=True)"
      ]
    },
    {
      "cell_type": "code",
      "execution_count": null,
      "metadata": {
        "id": "K1g54j1VCWmF"
      },
      "outputs": [],
      "source": [
        "# Me quedo con un subconjunto de las 60000 imágenes\n",
        "from torch.utils.data import Subset\n",
        "\n",
        "# Voy a sortear al azar 200 instancias de cada clase\n",
        "digits = np.arange(10)\n",
        "num_instances_per_class = 200\n",
        "\n",
        "subset_idxs = []\n",
        "for digit in digits:\n",
        "  # Me fijo cuáles son las muestras que corresponden a este dígito\n",
        "  digit_idxs = torch.where(mnist_data.targets==digit)[0]\n",
        "  # Elijo 100 índices al azar\n",
        "  selected_idxs = np.random.choice(digit_idxs,size=num_instances_per_class,replace=False)\n",
        "  subset_idxs.extend(selected_idxs)\n",
        "\n",
        "# Me quedo con el subconjunto de las imágenes que elgí al azar\n",
        "sampled_mnist_data = Subset(mnist_data,subset_idxs)\n",
        "\n",
        "# Armo matriz de features\n",
        "imgs_list = [(np.array(img)/255).astype(np.float32) for img, target_digit in sampled_mnist_data]\n",
        "\n",
        "# Guardo ground-truth de cada imagen\n",
        "target_labels = [target_digit for img, target_digit in sampled_mnist_data]\n",
        "\n",
        "# Paso cada imagen de tamaño 28x28 a un vector de dimensión 784\n",
        "Xmnist = np.array([img.flatten() for img in imgs_list])\n",
        "\n",
        "print('Dimensiones de la matriz de features:' + str(Xminst.shape))\n",
        "\n",
        "n, _ = Xmnist.shape\n",
        "\n",
        "# Dibujo una imagen al azar\n",
        "img_idx = np.random.randint(0,n)\n",
        "img_fig, img_ax = plt.subplots(figsize=(4,4))\n",
        "\n",
        "plt.axis('off')\n",
        "img_fig.tight_layout()\n",
        "img_ax.imshow(imgs_list[img_idx],cmap='Greys')\n",
        "_= img_ax.set_title(f'Dígito: {target_labels[img_idx]}',fontsize=20)"
      ]
    },
    {
      "cell_type": "markdown",
      "metadata": {
        "id": "RnHXXkOHREqV"
      },
      "source": [
        "Las imágenes viven en $\\mathbb{R}^{784}$, así que para tener una idea de los datos vamos a hacer reducción de dimensionalidad, a $\\mathbb{R}^2$, para poder graficarlos.\n",
        "Al igual que en el laboratorio 3 usamos [T-distributed stochastic neighbor embedding](https://en.wikipedia.org/wiki/T-distributed_stochastic_neighbor_embedding) (t-SNE), y coloreamos según la clase, que es el dígito."
      ]
    },
    {
      "cell_type": "code",
      "execution_count": null,
      "metadata": {
        "id": "4MEFI2elhvDW"
      },
      "outputs": [],
      "source": [
        "# Para ser consistentes con los experimentos con datos sintéticos, trasponemos la matriz de datos\n",
        "# Así, cada columna corresponde a un nodo (es decir, a una imagen)\n",
        "Xmnist = Xmnist.T\n",
        "print(Xmnist.shape)"
      ]
    },
    {
      "cell_type": "markdown",
      "metadata": {
        "id": "Uh7-5GG3kett"
      },
      "source": [
        "El resultado de arriba debería ser (784,2000)"
      ]
    },
    {
      "cell_type": "code",
      "execution_count": null,
      "metadata": {
        "id": "o5hsWCqU6uHf"
      },
      "outputs": [],
      "source": [
        "# Uso t-SNE para visualizar los features en R^2\n",
        "X_embedded = TSNE(n_components=2, learning_rate='auto', init='random').fit_transform(Xmnist.T)"
      ]
    },
    {
      "cell_type": "code",
      "execution_count": null,
      "metadata": {
        "id": "Wply6Pwwfn3H"
      },
      "outputs": [],
      "source": [
        "# Voy a mapear cada dígito a un color conocido\n",
        "colors_dict = {0:'black', 1:'firebrick', 2:'darkorange', 3:'gold', 4:'olivedrab',\n",
        "               5:'lightseagreen', 6:'royalblue', 7:'indigo', 8:'orchid', 9:'gray'}\n",
        "\n",
        "target_colors = [colors_dict[label] for label in target_labels]\n",
        "\n",
        "digits_legend = [Line2D([0], [0], marker='o', color='w', label=str(digit), markerfacecolor=colors_dict[digit], markersize=8) for digit in colors_dict]\n",
        "\n",
        "# Dibujo\n",
        "fig, ax = plt.subplots(1,1,figsize=(14, 7))\n",
        "_= ax.scatter(X_embedded[:,0],X_embedded[:,1],c=target_colors)\n",
        "_= ax.set_title(r'Features en $\\mathbb{R}^2$ usando t-SNE',fontsize=20)\n",
        "_=ax.legend(handles=digits_legend, loc='upper right',ncol=2,fontsize=14)"
      ]
    },
    {
      "cell_type": "markdown",
      "metadata": {
        "id": "iAzpV3Khif7K"
      },
      "source": [
        "\n",
        "Se puede observar que si bien funciona bastante bien, hay muchas instancias difíciles de clasificar en este espacio.\n",
        "Esto es simplemente para tener una idea de la dificultad del problema, no lo vamos a usar en los métodos."
      ]
    },
    {
      "cell_type": "markdown",
      "metadata": {
        "id": "RdFf9jR24dGM"
      },
      "source": [
        "Para lo que sigue, interpretaremos cada imagen como un nodo de un grafo, e intentaremos aprender las aristas correspondientes, buscando que estas guarden relación con la categoría de cada nodo (es decir, el dígito).\n",
        "La señal en cada nodo será la imagen vectorizada. Así, si dos imágenes son \"parecidas\" en algún sentido, estas señales estarán relacionadas, y entonces los nodos estarán conectados por una arista.\n",
        "\n",
        "Con un poco de suerte, podremos ver las 10 comunidades, que corresponden a los 10 dígitos."
      ]
    },
    {
      "cell_type": "code",
      "execution_count": null,
      "metadata": {
        "id": "Ff8z5BaRScIx"
      },
      "outputs": [],
      "source": [
        "# Estimamos la estructura del grafo usando el método de Meinshausen y Bühlmann\n",
        "W_meinshausen = meinshausen(Xmnist,alpha=0.00035)"
      ]
    },
    {
      "cell_type": "code",
      "execution_count": null,
      "metadata": {
        "id": "yyMb6A92gCOF"
      },
      "outputs": [],
      "source": [
        "fig_meinshausen, ax_meinshausen = plt.subplots(1,1,figsize=(8,8))\n",
        "# Y mostramos la estructura de la matriz (los ceros y no ceros)\n",
        "meinshausen_plot = ax_meinshausen.imshow(W_meinshausen>0)\n",
        "_=fig_meinshausen.colorbar(mappable=meinshausen_plot,shrink=0.7)"
      ]
    },
    {
      "cell_type": "code",
      "execution_count": null,
      "metadata": {
        "id": "cnySPtZf6-SV"
      },
      "outputs": [],
      "source": [
        "# Veamos esta estructura en el grafo\n",
        "# Vamos a poner todas las instancias de cada dígito en un círculo, y a su vez los círculos de cada dígito en un círculo más grande.\n",
        "\n",
        "def draw_learned_digits_graph(weights_matrix,colors_dict=colors_dict,target_colors=target_colors,num_instances_per_class=num_instances_per_class):\n",
        "  # Armo layout circular con la cantidad de elementos en cada clase\n",
        "  Gx = nx.from_numpy_array(weights_matrix[0:num_instances_per_class,0:num_instances_per_class])\n",
        "  posx = nx.circular_layout(Gx)\n",
        "\n",
        "  data = list(posx.items())\n",
        "  posx = np.array([data[i][1] for i in range(len(data))])\n",
        "\n",
        "  # Armo posiciones para el grafo general\n",
        "  # Son círculos centrados en 2*k*pi/10\n",
        "  pos = np.zeros((len(target_colors),2))\n",
        "\n",
        "  digits = list(colors_dict.keys())\n",
        "  circle_centers = [[5*np.sin(2*d*np.pi/10),5*np.cos(2*d*np.pi/10)] for d in digits ]\n",
        "  delta_r = 1.4\n",
        "  text_locs = [[(5+delta_r)*np.sin(2*d*np.pi/10),(5+delta_r)*np.cos(2*d*np.pi/10)] for d in digits ]\n",
        "\n",
        "  for i in digits:\n",
        "    pos[i*num_instances_per_class:(i+1)*num_instances_per_class,:] = posx + circle_centers[i]\n",
        "\n",
        "  # Armo grafo general y dibujo\n",
        "  G_mb = nx.from_numpy_array(weights_matrix)\n",
        "  edges = G_mb.edges()\n",
        "  weights = nx.get_edge_attributes(G_mb, \"weight\")\n",
        "  widths = [weights[edge] for edge in edges]\n",
        "  widths = widths/np.amax(widths,axis=0)\n",
        "\n",
        "  fig_G, ax_G = plt.subplots(1,1,figsize=(12,12))\n",
        "  _ = nx.draw_networkx_nodes(G_mb, pos=pos,node_size=4,node_color=target_colors, ax=ax_G)\n",
        "  _ = nx.draw_networkx_edges(G_mb, width=widths, alpha=0.5, pos=pos, ax=ax_G)\n",
        "\n",
        "  for idx, text_loc in enumerate(text_locs):\n",
        "    ax_G.text(text_loc[0], text_loc[1], digits[idx],color=colors_dict[digits[idx]],\n",
        "              fontsize=26,fontweight='bold',horizontalalignment='center',\n",
        "              verticalalignment='center')"
      ]
    },
    {
      "cell_type": "code",
      "execution_count": null,
      "metadata": {
        "id": "hsKZiRmtZjOq"
      },
      "outputs": [],
      "source": [
        "# Armamos el grafo a partir de la matriz resultado, y además coloreamos los nodos según la clase (el dígito), y el ancho de cada arista de acuerdo al peso aprendido con el método.\n",
        "draw_learned_digits_graph(W_meinshausen)"
      ]
    },
    {
      "cell_type": "markdown",
      "metadata": {
        "id": "zDuT_NEjknTx"
      },
      "source": [
        "\n",
        "\n",
        "6.  Comente el resultado. ¿Tiene sentido la estructura encontrada?\n",
        "\n"
      ]
    },
    {
      "cell_type": "markdown",
      "metadata": {
        "id": "sfuC-XWlmL4t"
      },
      "source": [
        "Una manera de evaluar el resultado es realizar *spectral clustering* utilizando este grafo aprendido. Esto se hace en el método de sklearn indicando que la matriz de afinidad está precomputada, y es el parámetro que le pasamos al método.\n",
        "Le indicamos que queremos encontrar 10 clusters, y evaluamos los resultados con tres medidas.\n"
      ]
    },
    {
      "cell_type": "code",
      "execution_count": null,
      "metadata": {
        "id": "xg25VG-8iuKo"
      },
      "outputs": [],
      "source": [
        "# Hago spectral clustering en el grafo aprendido\n",
        "spectral_clustering = SpectralClustering(n_clusters=10, affinity=\"precomputed\",n_init=100)\n",
        "\n",
        "# Uso como medidas de afinidad las entradas positivas de la matriz de pesos aprendida\n",
        "affinity_matrix_meinshausen = W_meinshausen.copy()\n",
        "affinity_matrix_meinshausen[affinity_matrix_meinshausen<0] = 0\n",
        "spectral_clustering.fit(affinity_matrix_meinshausen)\n",
        "\n",
        "labels_meinshausen = spectral_clustering.labels_.copy()\n",
        "\n",
        "meinshausen_results =[\"Meinshausen\",metrics.v_measure_score(target_labels,labels_meinshausen),\n",
        "                     metrics.adjusted_rand_score(target_labels,labels_meinshausen),\n",
        "                     metrics.fowlkes_mallows_score(target_labels,labels_meinshausen)]"
      ]
    },
    {
      "cell_type": "code",
      "execution_count": null,
      "metadata": {
        "id": "AzLnHxXZjDtA"
      },
      "outputs": [],
      "source": [
        "# Mostramos los resultados\n",
        "from IPython.display import display\n",
        "metrics_df=pd.DataFrame([meinshausen_results],columns=['Método','V-Measure','Rand', 'Fowlkes-Mallows'])\n",
        "\n",
        "display(metrics_df.style.hide(axis='index'))"
      ]
    },
    {
      "cell_type": "markdown",
      "metadata": {
        "id": "F_CQAvc2ni4E"
      },
      "source": [
        "Si la implementación del método de Meinshausen es correcta, debería dar un valor de V-Measure superior (o del orden) a 0.6.\n",
        "Pude intentar mejorar este valor cambiando el parámetro de regularización del método."
      ]
    },
    {
      "cell_type": "markdown",
      "metadata": {
        "id": "1ZiEjVvmoHdB"
      },
      "source": [
        "Probemos ahora con el método de Kalofolias."
      ]
    },
    {
      "cell_type": "code",
      "execution_count": null,
      "metadata": {
        "id": "7Ci0CuKsLrDS"
      },
      "outputs": [],
      "source": [
        "# Estimamos la estructura del grafo con el método de Kalofolias\n",
        "W_kalofolias = lg.log_degree_barrier(normalize(Xmnist.T,axis=1),alpha=3, beta=0.1, step=0.5)"
      ]
    },
    {
      "cell_type": "code",
      "execution_count": null,
      "metadata": {
        "id": "XNutmOwfvQPj"
      },
      "outputs": [],
      "source": [
        "# Umbralizamos los pesos del grafo: nos quedamos solo con los pesos que estén en\n",
        "# por encima del cuantil 0.99\n",
        "W_thresh = W_kalofolias.copy()\n",
        "W_thresh[W_thresh < np.quantile(W_thresh, 0.99)] = 0\n",
        "draw_learned_digits_graph(W_thresh)"
      ]
    },
    {
      "cell_type": "markdown",
      "metadata": {
        "id": "jdQ8t5AWtsd2"
      },
      "source": [
        "Como arriba, hacemos spectral clustering con el resultado.\n",
        "\n",
        "También hacemos clustering en el espacio original (es decir, sin aprender ninguna estructura con los métodos vistos), y en el espacio de dimensión 2 obtenido con t-SNE."
      ]
    },
    {
      "cell_type": "code",
      "execution_count": null,
      "metadata": {
        "id": "16YIBB02ve6v"
      },
      "outputs": [],
      "source": [
        "# Clustering con Kalofolias\n",
        "spectral_clustering.fit(W_kalofolias)\n",
        "labels_kalofolias = spectral_clustering.labels_.copy()\n",
        "\n",
        "kalofolias_results = [\"Kalofolias\",metrics.v_measure_score(target_labels,labels_kalofolias),\n",
        "                      metrics.adjusted_rand_score(target_labels,labels_kalofolias),\n",
        "                      metrics.fowlkes_mallows_score(target_labels,labels_kalofolias)]"
      ]
    },
    {
      "cell_type": "code",
      "execution_count": null,
      "metadata": {
        "id": "R91unHnMwA18"
      },
      "outputs": [],
      "source": [
        "# Clustering en el espacio original\n",
        "spectral_clustering_features = SpectralClustering(n_clusters=10,affinity='nearest_neighbors',n_init=100)\n",
        "spectral_clustering_features.fit(Xmnist.T)\n",
        "labels_X =spectral_clustering_features.labels_\n",
        "\n",
        "original_space_results = [\"Clustering en espacio original\",metrics.v_measure_score(target_labels,labels_X),\n",
        "                          metrics.adjusted_rand_score(target_labels,labels_X),\n",
        "                          metrics.fowlkes_mallows_score(target_labels,labels_X)]"
      ]
    },
    {
      "cell_type": "code",
      "execution_count": null,
      "metadata": {
        "id": "KiPSEeIuzeMm"
      },
      "outputs": [],
      "source": [
        "# Clustering en el espacio de t-SNE\n",
        "spectral_clustering_features.fit(X_embedded)\n",
        "labels_tsne =spectral_clustering_features.labels_\n",
        "\n",
        "tsne_results = [\"Clustering con t-SNE\",metrics.v_measure_score(target_labels,labels_tsne),\n",
        "                metrics.adjusted_rand_score(target_labels,labels_tsne),\n",
        "                metrics.fowlkes_mallows_score(target_labels,labels_tsne)]"
      ]
    },
    {
      "cell_type": "code",
      "execution_count": null,
      "metadata": {
        "id": "M7fyMdbRwDZl"
      },
      "outputs": [],
      "source": [
        "# Muestro resultados\n",
        "results = [original_space_results,meinshausen_results,kalofolias_results,tsne_results]\n",
        "metrics_df=pd.DataFrame(results,columns=['Método','V-Measure','Rand', 'Fowlkes-Mallows'])\n",
        "\n",
        "display(metrics_df.style.hide(axis='index'))"
      ]
    },
    {
      "cell_type": "markdown",
      "metadata": {
        "id": "WzQLFZMEuaUI"
      },
      "source": [
        "Finalmente, comparamos los resultados del clustering de todos los métodos.\n",
        "Se puede observar que tanto el método de Kalofolias como el de Meinshausen y Bühlmann recuperan una estructura útil. El objetivo de esta parte no es mejorar el resultado de clustering en el espacio original (aunque suceda), sino verificar la estructura obtenida."
      ]
    },
    {
      "cell_type": "markdown",
      "metadata": {
        "id": "T_39FvMLvGjF"
      },
      "source": [
        "En la siguiente celda repetimos el código para generar la visualización después del t-SNE de los datos con las etiquetas correctas.\n",
        "\n",
        "7. Repita esta visualización para cada método analizado.\n",
        "8. Enfóquese en el método de Kalofolias, que parece obtener los mejores resultados. ¿Qué instancias clasifica correctamente, para las cuales a su vez el método de hacer clustering en el plano t-SNE falla? Y a la inversa, ¿en qué instancias falla que hacer clustering en el plano t-SNE brinda la solución correcta? Relaciónelo con el grafo que obtuvo cada método."
      ]
    },
    {
      "cell_type": "code",
      "execution_count": null,
      "metadata": {
        "id": "XIaD948waUsP"
      },
      "outputs": [],
      "source": [
        "fig, axs = plt.subplots(3,2,figsize=(28, 28))\n",
        "print(axs.shape)\n",
        "axs[0,0].scatter(X_embedded[:,0],X_embedded[:,1],c=target_colors)\n",
        "axs[0,0].set_title('Etiquetas reales',fontsize=20)\n",
        "\n",
        "################################################################################\n",
        "# Escriba aquí su código para generar los colores correspondientes a cada método\n",
        "# Puede ser útil la función remap_labels de graspologic\n",
        "################################################################################\n",
        "clustering_original_colors = []\n",
        "meinshausen_colors = []\n",
        "kalofolias_colors = []\n",
        "clustering_t_sne_colors = []\n",
        "\n",
        "\n",
        "\n",
        "_= axs[1,0].scatter(X_embedded[:,0],X_embedded[:,1],c=clustering_original_colors)\n",
        "_= axs[1,0].legend(handles=digits_legend, loc='upper right',ncol=2,fontsize=14)\n",
        "_= axs[1,0].set_title(r'Spectral clustering en espacio original',fontsize=20)\n",
        "\n",
        "\n",
        "_= axs[1,1].scatter(X_embedded[:,0],X_embedded[:,1],c=meinshausen_colors)\n",
        "_= axs[1,1].legend(handles=digits_legend, loc='upper right',ncol=2,fontsize=14)\n",
        "_= axs[1,1].set_title(r'Spectral clustering con Meinshausen',fontsize=20)\n",
        "\n",
        "\n",
        "_= axs[2,0].scatter(X_embedded[:,0],X_embedded[:,1],c=kalofolias_colors)\n",
        "_= axs[2,0].legend(handles=digits_legend, loc='upper right',ncol=2,fontsize=14)\n",
        "_= axs[2,0].set_title(r'Spectral clustering con Kalafolias',fontsize=20)\n",
        "\n",
        "_= axs[2,1].scatter(X_embedded[:,0],X_embedded[:,1],c=clustering_t_sne_colors)\n",
        "_= axs[2,1].legend(handles=digits_legend, loc='upper right',ncol=2,fontsize=14)\n",
        "_= axs[2,1].set_title(r'Spectral clustering en t-SNE',fontsize=20)\n",
        "\n",
        "fig.suptitle(r'Features en $\\mathbb{R}^2$ usando t-SNE',fontsize=20)\n"
      ]
    },
    {
      "cell_type": "code",
      "execution_count": null,
      "metadata": {
        "id": "VwvMgluzxUJ2"
      },
      "outputs": [],
      "source": []
    }
  ],
  "metadata": {
    "colab": {
      "private_outputs": true,
      "provenance": []
    },
    "kernelspec": {
      "display_name": ".venv-lab3",
      "language": "python",
      "name": "python3"
    },
    "language_info": {
      "codemirror_mode": {
        "name": "ipython",
        "version": 3
      },
      "file_extension": ".py",
      "mimetype": "text/x-python",
      "name": "python",
      "nbconvert_exporter": "python",
      "pygments_lexer": "ipython3",
      "version": "3.10.13"
    }
  },
  "nbformat": 4,
  "nbformat_minor": 0
}
